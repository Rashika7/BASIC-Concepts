{
 "cells": [
  {
   "cell_type": "code",
   "execution_count": 2,
   "id": "8a02b3da",
   "metadata": {},
   "outputs": [
    {
     "data": {
      "text/plain": [
       "{0: 0, 1: 1, 2: 4, 3: 9, 4: 16, 5: 25, 6: 36, 7: 49, 8: 64, 9: 81}"
      ]
     },
     "execution_count": 2,
     "metadata": {},
     "output_type": "execute_result"
    }
   ],
   "source": [
    "{i:i**2 for i in range(10)} # list comprehension method to generate dictionary of square values."
   ]
  },
  {
   "cell_type": "markdown",
   "id": "dc69e108",
   "metadata": {},
   "source": [
    " String is a iterable object. (True) An element can access in a sequential manner known as iterable."
   ]
  },
  {
   "cell_type": "code",
   "execution_count": 3,
   "id": "95f690c9",
   "metadata": {},
   "outputs": [],
   "source": [
    "a= 'Rashika'"
   ]
  },
  {
   "cell_type": "code",
   "execution_count": 4,
   "id": "268eaf65",
   "metadata": {},
   "outputs": [],
   "source": [
    "b=iter(a)"
   ]
  },
  {
   "cell_type": "code",
   "execution_count": 5,
   "id": "f49fa2d4",
   "metadata": {},
   "outputs": [
    {
     "data": {
      "text/plain": [
       "'R'"
      ]
     },
     "execution_count": 5,
     "metadata": {},
     "output_type": "execute_result"
    }
   ],
   "source": [
    "next(b)"
   ]
  },
  {
   "cell_type": "code",
   "execution_count": 6,
   "id": "c0e6b1be",
   "metadata": {},
   "outputs": [
    {
     "data": {
      "text/plain": [
       "'a'"
      ]
     },
     "execution_count": 6,
     "metadata": {},
     "output_type": "execute_result"
    }
   ],
   "source": [
    "next(b)"
   ]
  },
  {
   "cell_type": "code",
   "execution_count": 7,
   "id": "8df5fc0e",
   "metadata": {},
   "outputs": [
    {
     "data": {
      "text/plain": [
       "'s'"
      ]
     },
     "execution_count": 7,
     "metadata": {},
     "output_type": "execute_result"
    }
   ],
   "source": [
    "next(b)"
   ]
  },
  {
   "cell_type": "code",
   "execution_count": 8,
   "id": "6d4e4b19",
   "metadata": {},
   "outputs": [
    {
     "data": {
      "text/plain": [
       "'h'"
      ]
     },
     "execution_count": 8,
     "metadata": {},
     "output_type": "execute_result"
    }
   ],
   "source": [
    "next(b)"
   ]
  },
  {
   "cell_type": "code",
   "execution_count": 9,
   "id": "0ba17ff2",
   "metadata": {},
   "outputs": [
    {
     "data": {
      "text/plain": [
       "'i'"
      ]
     },
     "execution_count": 9,
     "metadata": {},
     "output_type": "execute_result"
    }
   ],
   "source": [
    "next(b)"
   ]
  },
  {
   "cell_type": "code",
   "execution_count": 10,
   "id": "28d2a3a9",
   "metadata": {},
   "outputs": [
    {
     "data": {
      "text/plain": [
       "'k'"
      ]
     },
     "execution_count": 10,
     "metadata": {},
     "output_type": "execute_result"
    }
   ],
   "source": [
    "next(b)"
   ]
  },
  {
   "cell_type": "code",
   "execution_count": 11,
   "id": "73616f7b",
   "metadata": {},
   "outputs": [
    {
     "data": {
      "text/plain": [
       "'a'"
      ]
     },
     "execution_count": 11,
     "metadata": {},
     "output_type": "execute_result"
    }
   ],
   "source": [
    "next(b)"
   ]
  },
  {
   "cell_type": "code",
   "execution_count": 12,
   "id": "d9708d14",
   "metadata": {},
   "outputs": [
    {
     "ename": "StopIteration",
     "evalue": "",
     "output_type": "error",
     "traceback": [
      "\u001b[1;31m---------------------------------------------------------------------------\u001b[0m",
      "\u001b[1;31mStopIteration\u001b[0m                             Traceback (most recent call last)",
      "\u001b[1;32m~\\AppData\\Local\\Temp/ipykernel_10468/973617480.py\u001b[0m in \u001b[0;36m<module>\u001b[1;34m\u001b[0m\n\u001b[1;32m----> 1\u001b[1;33m \u001b[0mnext\u001b[0m\u001b[1;33m(\u001b[0m\u001b[0mb\u001b[0m\u001b[1;33m)\u001b[0m\u001b[1;33m\u001b[0m\u001b[1;33m\u001b[0m\u001b[0m\n\u001b[0m",
      "\u001b[1;31mStopIteration\u001b[0m: "
     ]
    }
   ],
   "source": [
    "next(b)"
   ]
  },
  {
   "cell_type": "markdown",
   "id": "c16455c2",
   "metadata": {},
   "source": [
    "int object is not iterable.(True)"
   ]
  },
  {
   "cell_type": "code",
   "execution_count": 13,
   "id": "a124db3d",
   "metadata": {},
   "outputs": [
    {
     "name": "stdout",
     "output_type": "stream",
     "text": [
      "0\n",
      "1\n",
      "2\n",
      "3\n",
      "4\n",
      "5\n",
      "6\n",
      "7\n",
      "8\n",
      "9\n"
     ]
    }
   ],
   "source": [
    "for i in range(10):\n",
    "    print(i)"
   ]
  },
  {
   "cell_type": "markdown",
   "id": "4e4db843",
   "metadata": {},
   "source": [
    "Print gives nonetype, so avoid to use print in coding."
   ]
  },
  {
   "cell_type": "markdown",
   "id": "51bdfa1c",
   "metadata": {},
   "source": [
    "for range type function use \"yield\"."
   ]
  },
  {
   "cell_type": "code",
   "execution_count": 14,
   "id": "ce74c868",
   "metadata": {},
   "outputs": [],
   "source": [
    "def fibnacci(n):\n",
    "    a=1\n",
    "    b=1\n",
    "    for i in range(n):\n",
    "        yield a,i\n",
    "        a,b=b,a+b"
   ]
  },
  {
   "cell_type": "code",
   "execution_count": 15,
   "id": "c3a252b4",
   "metadata": {},
   "outputs": [
    {
     "name": "stdout",
     "output_type": "stream",
     "text": [
      "(1, 0)\n",
      "(1, 1)\n",
      "(2, 2)\n",
      "(3, 3)\n",
      "(5, 4)\n",
      "(8, 5)\n",
      "(13, 6)\n",
      "(21, 7)\n",
      "(34, 8)\n",
      "(55, 9)\n",
      "(89, 10)\n",
      "(144, 11)\n",
      "(233, 12)\n",
      "(377, 13)\n",
      "(610, 14)\n",
      "(987, 15)\n",
      "(1597, 16)\n",
      "(2584, 17)\n",
      "(4181, 18)\n",
      "(6765, 19)\n"
     ]
    }
   ],
   "source": [
    "for i in fibnacci(20):\n",
    "    print(i)"
   ]
  },
  {
   "cell_type": "code",
   "execution_count": 16,
   "id": "b171f27f",
   "metadata": {},
   "outputs": [],
   "source": [
    "f=open('python1.txt','w')"
   ]
  },
  {
   "cell_type": "code",
   "execution_count": 17,
   "id": "5a22ef77",
   "metadata": {},
   "outputs": [
    {
     "name": "stdout",
     "output_type": "stream",
     "text": [
      " Volume in drive C has no label.\n",
      " Volume Serial Number is 2650-5193\n",
      "\n",
      " Directory of C:\\Users\\Rashika\n",
      "\n",
      "01/23/2022  11:53 PM    <DIR>          .\n",
      "01/23/2022  11:53 PM    <DIR>          ..\n",
      "01/16/2022  06:55 AM    <DIR>          .astropy\n",
      "01/21/2022  09:58 PM    <DIR>          .conda\n",
      "01/16/2022  06:18 AM                25 .condarc\n",
      "01/16/2022  06:17 AM    <DIR>          .continuum\n",
      "01/23/2022  11:00 PM    <DIR>          .ipynb_checkpoints\n",
      "01/16/2022  06:08 AM    <DIR>          .ipython\n",
      "01/17/2022  11:09 PM    <DIR>          .jupyter\n",
      "01/16/2022  07:05 AM    <DIR>          .matplotlib\n",
      "01/16/2022  04:50 AM    <DIR>          3D Objects\n",
      "01/16/2022  06:01 AM    <DIR>          anaconda3\n",
      "01/19/2022  03:30 AM            24,436 BASIC P1.ipynb\n",
      "01/20/2022  07:52 AM            19,742 Basic P2.ipynb\n",
      "01/23/2022  11:48 PM             6,427 BASIC P3.ipynb\n",
      "01/20/2022  01:34 AM            14,301 Capture.PNG\n",
      "01/20/2022  01:25 AM           856,709 cars.PNG\n",
      "01/16/2022  04:50 AM    <DIR>          Contacts\n",
      "01/23/2022  01:48 PM    <DIR>          Desktop\n",
      "01/16/2022  06:01 AM    <DIR>          Documents\n",
      "01/23/2022  08:10 AM    <DIR>          Downloads\n",
      "01/16/2022  04:50 AM    <DIR>          Favorites\n",
      "01/18/2022  12:16 AM            45,470 JGT.ipynb\n",
      "01/20/2022  10:11 PM            35,118 job post.PNG\n",
      "01/16/2022  04:50 AM    <DIR>          Links\n",
      "01/16/2022  04:50 AM    <DIR>          Music\n",
      "01/16/2022  04:54 AM    <DIR>          OneDrive\n",
      "01/21/2022  04:12 AM    <DIR>          Pictures\n",
      "01/23/2022  01:48 AM    <DIR>          Postman\n",
      "01/23/2022  02:25 AM    <DIR>          PycharmProjects\n",
      "01/23/2022  11:53 PM                 0 python1.txt\n",
      "01/16/2022  04:50 AM    <DIR>          Saved Games\n",
      "01/16/2022  04:52 AM    <DIR>          Searches\n",
      "01/21/2022  09:03 PM                 0 Test1.py\n",
      "01/16/2022  08:17 AM            49,026 Tracker.ipynb\n",
      "01/20/2022  01:30 AM             4,558 Untitled.ipynb\n",
      "01/21/2022  09:06 PM             1,317 Untitled1.ipynb\n",
      "01/22/2022  11:12 PM             2,646 Untitled2.ipynb\n",
      "01/18/2022  04:41 AM    <DIR>          Videos\n",
      "              14 File(s)      1,059,775 bytes\n",
      "              25 Dir(s)  63,422,394,368 bytes free\n"
     ]
    }
   ],
   "source": [
    "ls"
   ]
  },
  {
   "cell_type": "markdown",
   "id": "e6765984",
   "metadata": {},
   "source": [
    "%ls, !ls both are the notation of checking file."
   ]
  },
  {
   "cell_type": "code",
   "execution_count": 18,
   "id": "f3de63d6",
   "metadata": {},
   "outputs": [
    {
     "data": {
      "text/plain": [
       "43"
      ]
     },
     "execution_count": 18,
     "metadata": {},
     "output_type": "execute_result"
    }
   ],
   "source": [
    "f.write(\"This is the file where we can write content\")"
   ]
  },
  {
   "cell_type": "code",
   "execution_count": 19,
   "id": "826f1f68",
   "metadata": {},
   "outputs": [],
   "source": [
    "f.close()"
   ]
  },
  {
   "cell_type": "markdown",
   "id": "b659f0e1",
   "metadata": {},
   "source": [
    "%%writefile python2.txt\n",
    "\n",
    "#writing a second method to create and write data."
   ]
  },
  {
   "cell_type": "code",
   "execution_count": 20,
   "id": "61ae8fc4",
   "metadata": {},
   "outputs": [],
   "source": [
    "f=open('python1.txt')"
   ]
  },
  {
   "cell_type": "code",
   "execution_count": 21,
   "id": "6d0f8b48",
   "metadata": {},
   "outputs": [
    {
     "data": {
      "text/plain": [
       "'This is the file where we can write content'"
      ]
     },
     "execution_count": 21,
     "metadata": {},
     "output_type": "execute_result"
    }
   ],
   "source": [
    "f.read()"
   ]
  },
  {
   "cell_type": "code",
   "execution_count": 22,
   "id": "31256b86",
   "metadata": {},
   "outputs": [
    {
     "data": {
      "text/plain": [
       "''"
      ]
     },
     "execution_count": 22,
     "metadata": {},
     "output_type": "execute_result"
    }
   ],
   "source": [
    "f.read() # we get blank, due to the file is already in read mode."
   ]
  },
  {
   "cell_type": "code",
   "execution_count": 23,
   "id": "fd34bfb7",
   "metadata": {},
   "outputs": [
    {
     "data": {
      "text/plain": [
       "5"
      ]
     },
     "execution_count": 23,
     "metadata": {},
     "output_type": "execute_result"
    }
   ],
   "source": [
    "f.seek(5)"
   ]
  },
  {
   "cell_type": "code",
   "execution_count": 24,
   "id": "d78e8a37",
   "metadata": {},
   "outputs": [
    {
     "data": {
      "text/plain": [
       "5"
      ]
     },
     "execution_count": 24,
     "metadata": {},
     "output_type": "execute_result"
    }
   ],
   "source": [
    "f.tell()"
   ]
  },
  {
   "cell_type": "code",
   "execution_count": 25,
   "id": "58c395c3",
   "metadata": {},
   "outputs": [
    {
     "data": {
      "text/plain": [
       "'is the file where we can write content\\n'"
      ]
     },
     "execution_count": 25,
     "metadata": {},
     "output_type": "execute_result"
    }
   ],
   "source": [
    "f.readline()"
   ]
  },
  {
   "cell_type": "code",
   "execution_count": 26,
   "id": "d59489ba",
   "metadata": {},
   "outputs": [
    {
     "data": {
      "text/plain": [
       "'\\n'"
      ]
     },
     "execution_count": 26,
     "metadata": {},
     "output_type": "execute_result"
    }
   ],
   "source": [
    "f.readline()"
   ]
  },
  {
   "cell_type": "code",
   "execution_count": 27,
   "id": "7c41e9ce",
   "metadata": {},
   "outputs": [
    {
     "data": {
      "text/plain": [
       "'This is amazing.\\n'"
      ]
     },
     "execution_count": 27,
     "metadata": {},
     "output_type": "execute_result"
    }
   ],
   "source": [
    "f.readline()"
   ]
  },
  {
   "cell_type": "code",
   "execution_count": 28,
   "id": "77946384",
   "metadata": {},
   "outputs": [
    {
     "ename": "FileNotFoundError",
     "evalue": "[Errno 2] No such file or directory: 'google.txt'",
     "output_type": "error",
     "traceback": [
      "\u001b[1;31m---------------------------------------------------------------------------\u001b[0m",
      "\u001b[1;31mFileNotFoundError\u001b[0m                         Traceback (most recent call last)",
      "\u001b[1;32m~\\AppData\\Local\\Temp/ipykernel_10468/741281655.py\u001b[0m in \u001b[0;36m<module>\u001b[1;34m\u001b[0m\n\u001b[1;32m----> 1\u001b[1;33m \u001b[0mf\u001b[0m\u001b[1;33m=\u001b[0m\u001b[0mopen\u001b[0m\u001b[1;33m(\u001b[0m\u001b[1;34m'google.txt'\u001b[0m\u001b[1;33m,\u001b[0m\u001b[1;34m'r+'\u001b[0m\u001b[1;33m)\u001b[0m\u001b[1;33m\u001b[0m\u001b[1;33m\u001b[0m\u001b[0m\n\u001b[0m\u001b[0;32m      2\u001b[0m \u001b[1;32mfor\u001b[0m \u001b[0mline\u001b[0m \u001b[1;32min\u001b[0m \u001b[0mf\u001b[0m\u001b[1;33m:\u001b[0m\u001b[1;33m\u001b[0m\u001b[1;33m\u001b[0m\u001b[0m\n\u001b[0;32m      3\u001b[0m     \u001b[0mprint\u001b[0m\u001b[1;33m(\u001b[0m\u001b[0mline\u001b[0m\u001b[1;33m,\u001b[0m\u001b[0mend\u001b[0m\u001b[1;33m=\u001b[0m\u001b[1;34m''\u001b[0m\u001b[1;33m)\u001b[0m\u001b[1;33m\u001b[0m\u001b[1;33m\u001b[0m\u001b[0m\n",
      "\u001b[1;31mFileNotFoundError\u001b[0m: [Errno 2] No such file or directory: 'google.txt'"
     ]
    }
   ],
   "source": [
    "f=open('google.txt','r+')\n",
    "for line in f:\n",
    "    print(line,end='')"
   ]
  },
  {
   "cell_type": "code",
   "execution_count": 35,
   "id": "b7458a36",
   "metadata": {},
   "outputs": [],
   "source": [
    "f=open('python1.txt','r+')"
   ]
  },
  {
   "cell_type": "code",
   "execution_count": 30,
   "id": "b4bab736",
   "metadata": {},
   "outputs": [
    {
     "data": {
      "text/plain": [
       "7"
      ]
     },
     "execution_count": 30,
     "metadata": {},
     "output_type": "execute_result"
    }
   ],
   "source": [
    "len(f.readlines())"
   ]
  },
  {
   "cell_type": "code",
   "execution_count": 36,
   "id": "a83352d1",
   "metadata": {},
   "outputs": [],
   "source": [
    "l=f.readlines()"
   ]
  },
  {
   "cell_type": "code",
   "execution_count": 37,
   "id": "767d7145",
   "metadata": {},
   "outputs": [
    {
     "data": {
      "text/plain": [
       "['This is the file where we can write content\\n',\n",
       " '\\n',\n",
       " 'This is amazing.\\n',\n",
       " '\\n',\n",
       " 'python learning by practice.\\n',\n",
       " '\\n',\n",
       " 'implement in real life problems.']"
      ]
     },
     "execution_count": 37,
     "metadata": {},
     "output_type": "execute_result"
    }
   ],
   "source": [
    "l"
   ]
  },
  {
   "cell_type": "code",
   "execution_count": 38,
   "id": "89846657",
   "metadata": {},
   "outputs": [
    {
     "data": {
      "text/plain": [
       "['This', 'is', 'the', 'file', 'where', 'we', 'can', 'write', 'content']"
      ]
     },
     "execution_count": 38,
     "metadata": {},
     "output_type": "execute_result"
    }
   ],
   "source": [
    "l[0].split()"
   ]
  },
  {
   "cell_type": "code",
   "execution_count": 40,
   "id": "bbb34681",
   "metadata": {},
   "outputs": [],
   "source": [
    "l1=[]\n",
    "for i in l[0].split():\n",
    "    l1.append(i[0])"
   ]
  },
  {
   "cell_type": "code",
   "execution_count": 41,
   "id": "9b4ad729",
   "metadata": {},
   "outputs": [
    {
     "data": {
      "text/plain": [
       "['T', 'i', 't', 'f', 'w', 'w', 'c', 'w', 'c']"
      ]
     },
     "execution_count": 41,
     "metadata": {},
     "output_type": "execute_result"
    }
   ],
   "source": [
    "l1"
   ]
  },
  {
   "cell_type": "code",
   "execution_count": 42,
   "id": "d0d63855",
   "metadata": {},
   "outputs": [
    {
     "data": {
      "text/plain": [
       "'python1.txt'"
      ]
     },
     "execution_count": 42,
     "metadata": {},
     "output_type": "execute_result"
    }
   ],
   "source": [
    "f.name"
   ]
  },
  {
   "cell_type": "code",
   "execution_count": 43,
   "id": "52661df7",
   "metadata": {},
   "outputs": [],
   "source": [
    "l2=[\"hjlsdkLLLLLLLLLLl\",'hglvkllljllllllllljlll lllll','blchLLLLLLLLLLLLLlll']"
   ]
  },
  {
   "cell_type": "code",
   "execution_count": 44,
   "id": "553c0641",
   "metadata": {},
   "outputs": [],
   "source": [
    "f.writelines(l2)"
   ]
  },
  {
   "cell_type": "code",
   "execution_count": 45,
   "id": "ef9b1ce2",
   "metadata": {},
   "outputs": [],
   "source": [
    "f.close()"
   ]
  },
  {
   "cell_type": "code",
   "execution_count": 46,
   "id": "73dad900",
   "metadata": {},
   "outputs": [],
   "source": [
    "f=open('python1.txt','r+')"
   ]
  },
  {
   "cell_type": "code",
   "execution_count": 47,
   "id": "93005f45",
   "metadata": {},
   "outputs": [
    {
     "data": {
      "text/plain": [
       "4"
      ]
     },
     "execution_count": 47,
     "metadata": {},
     "output_type": "execute_result"
    }
   ],
   "source": [
    "f.fileno()"
   ]
  },
  {
   "cell_type": "code",
   "execution_count": 48,
   "id": "4f8507b7",
   "metadata": {},
   "outputs": [],
   "source": [
    "f.close()"
   ]
  },
  {
   "cell_type": "code",
   "execution_count": 49,
   "id": "62e7452d",
   "metadata": {},
   "outputs": [],
   "source": [
    "import os"
   ]
  },
  {
   "cell_type": "code",
   "execution_count": 50,
   "id": "efd64528",
   "metadata": {},
   "outputs": [],
   "source": [
    "os.remove('Test1.py')"
   ]
  },
  {
   "cell_type": "code",
   "execution_count": 51,
   "id": "f71d1588",
   "metadata": {},
   "outputs": [
    {
     "name": "stdout",
     "output_type": "stream",
     "text": [
      " Volume in drive C has no label.\n",
      " Volume Serial Number is 2650-5193\n",
      "\n",
      " Directory of C:\\Users\\Rashika\n",
      "\n",
      "01/24/2022  12:42 AM    <DIR>          .\n",
      "01/24/2022  12:42 AM    <DIR>          ..\n",
      "01/16/2022  06:55 AM    <DIR>          .astropy\n",
      "01/21/2022  09:58 PM    <DIR>          .conda\n",
      "01/16/2022  06:18 AM                25 .condarc\n",
      "01/16/2022  06:17 AM    <DIR>          .continuum\n",
      "01/23/2022  11:00 PM    <DIR>          .ipynb_checkpoints\n",
      "01/16/2022  06:08 AM    <DIR>          .ipython\n",
      "01/17/2022  11:09 PM    <DIR>          .jupyter\n",
      "01/16/2022  07:05 AM    <DIR>          .matplotlib\n",
      "01/16/2022  04:50 AM    <DIR>          3D Objects\n",
      "01/16/2022  06:01 AM    <DIR>          anaconda3\n",
      "01/19/2022  03:30 AM            24,436 BASIC P1.ipynb\n",
      "01/20/2022  07:52 AM            19,742 Basic P2.ipynb\n",
      "01/24/2022  12:42 AM            18,341 BASIC P3.ipynb\n",
      "01/20/2022  01:34 AM            14,301 Capture.PNG\n",
      "01/20/2022  01:25 AM           856,709 cars.PNG\n",
      "01/16/2022  04:50 AM    <DIR>          Contacts\n",
      "01/23/2022  01:48 PM    <DIR>          Desktop\n",
      "01/16/2022  06:01 AM    <DIR>          Documents\n",
      "01/23/2022  08:10 AM    <DIR>          Downloads\n",
      "01/16/2022  04:50 AM    <DIR>          Favorites\n",
      "01/18/2022  12:16 AM            45,470 JGT.ipynb\n",
      "01/20/2022  10:11 PM            35,118 job post.PNG\n",
      "01/16/2022  04:50 AM    <DIR>          Links\n",
      "01/16/2022  04:50 AM    <DIR>          Music\n",
      "01/16/2022  04:54 AM    <DIR>          OneDrive\n",
      "01/21/2022  04:12 AM    <DIR>          Pictures\n",
      "01/23/2022  01:48 AM    <DIR>          Postman\n",
      "01/23/2022  02:25 AM    <DIR>          PycharmProjects\n",
      "01/24/2022  12:38 AM               196 python1.txt\n",
      "01/16/2022  04:50 AM    <DIR>          Saved Games\n",
      "01/16/2022  04:52 AM    <DIR>          Searches\n",
      "01/16/2022  08:17 AM            49,026 Tracker.ipynb\n",
      "01/20/2022  01:30 AM             4,558 Untitled.ipynb\n",
      "01/21/2022  09:06 PM             1,317 Untitled1.ipynb\n",
      "01/22/2022  11:12 PM             2,646 Untitled2.ipynb\n",
      "01/18/2022  04:41 AM    <DIR>          Videos\n",
      "              13 File(s)      1,071,885 bytes\n",
      "              25 Dir(s)  63,394,480,128 bytes free\n"
     ]
    }
   ],
   "source": [
    "ls"
   ]
  },
  {
   "cell_type": "code",
   "execution_count": 52,
   "id": "380f55b6",
   "metadata": {},
   "outputs": [
    {
     "data": {
      "text/plain": [
       "['.astropy',\n",
       " '.conda',\n",
       " '.condarc',\n",
       " '.continuum',\n",
       " '.ipynb_checkpoints',\n",
       " '.ipython',\n",
       " '.jupyter',\n",
       " '.matplotlib',\n",
       " '3D Objects',\n",
       " 'anaconda3',\n",
       " 'AppData',\n",
       " 'Application Data',\n",
       " 'BASIC P1.ipynb',\n",
       " 'Basic P2.ipynb',\n",
       " 'BASIC P3.ipynb',\n",
       " 'Capture.PNG',\n",
       " 'cars.PNG',\n",
       " 'Contacts',\n",
       " 'Cookies',\n",
       " 'Desktop',\n",
       " 'Documents',\n",
       " 'Downloads',\n",
       " 'Favorites',\n",
       " 'IntelGraphicsProfiles',\n",
       " 'JGT.ipynb',\n",
       " 'job post.PNG',\n",
       " 'Links',\n",
       " 'Local Settings',\n",
       " 'MicrosoftEdgeBackups',\n",
       " 'Music',\n",
       " 'My Documents',\n",
       " 'NetHood',\n",
       " 'NTUSER.DAT',\n",
       " 'ntuser.dat.LOG1',\n",
       " 'ntuser.dat.LOG2',\n",
       " 'NTUSER.DAT{53b39e88-18c4-11ea-a811-000d3aa4692b}.TM.blf',\n",
       " 'NTUSER.DAT{53b39e88-18c4-11ea-a811-000d3aa4692b}.TMContainer00000000000000000001.regtrans-ms',\n",
       " 'NTUSER.DAT{53b39e88-18c4-11ea-a811-000d3aa4692b}.TMContainer00000000000000000002.regtrans-ms',\n",
       " 'ntuser.ini',\n",
       " 'OneDrive',\n",
       " 'Pictures',\n",
       " 'Postman',\n",
       " 'PrintHood',\n",
       " 'PycharmProjects',\n",
       " 'python1.txt',\n",
       " 'Recent',\n",
       " 'Saved Games',\n",
       " 'Searches',\n",
       " 'SendTo',\n",
       " 'Start Menu',\n",
       " 'Templates',\n",
       " 'Tracker.ipynb',\n",
       " 'Untitled.ipynb',\n",
       " 'Untitled1.ipynb',\n",
       " 'Untitled2.ipynb',\n",
       " 'Videos']"
      ]
     },
     "execution_count": 52,
     "metadata": {},
     "output_type": "execute_result"
    }
   ],
   "source": [
    "os.listdir()"
   ]
  }
 ],
 "metadata": {
  "kernelspec": {
   "display_name": "Python 3 (ipykernel)",
   "language": "python",
   "name": "python3"
  },
  "language_info": {
   "codemirror_mode": {
    "name": "ipython",
    "version": 3
   },
   "file_extension": ".py",
   "mimetype": "text/x-python",
   "name": "python",
   "nbconvert_exporter": "python",
   "pygments_lexer": "ipython3",
   "version": "3.9.7"
  }
 },
 "nbformat": 4,
 "nbformat_minor": 5
}
