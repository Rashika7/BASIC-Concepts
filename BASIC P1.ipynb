{
 "cells": [
  {
   "cell_type": "code",
   "execution_count": 4,
   "id": "5fcb19cc",
   "metadata": {},
   "outputs": [],
   "source": [
    "a='Jai Guruji'"
   ]
  },
  {
   "cell_type": "code",
   "execution_count": 6,
   "id": "12b9e339",
   "metadata": {},
   "outputs": [
    {
     "data": {
      "text/plain": [
       "''"
      ]
     },
     "execution_count": 6,
     "metadata": {},
     "output_type": "execute_result"
    }
   ],
   "source": [
    "a[-1:-4] # got blank output due to positive jump."
   ]
  },
  {
   "cell_type": "code",
   "execution_count": 7,
   "id": "c5add966",
   "metadata": {},
   "outputs": [
    {
     "data": {
      "text/plain": [
       "'Jai Guruji'"
      ]
     },
     "execution_count": 7,
     "metadata": {},
     "output_type": "execute_result"
    }
   ],
   "source": [
    "a[0:10:1]"
   ]
  },
  {
   "cell_type": "code",
   "execution_count": 8,
   "id": "16bc4393",
   "metadata": {},
   "outputs": [
    {
     "data": {
      "text/plain": [
       "'JiGrj'"
      ]
     },
     "execution_count": 8,
     "metadata": {},
     "output_type": "execute_result"
    }
   ],
   "source": [
    "a[0:10:2]"
   ]
  },
  {
   "cell_type": "code",
   "execution_count": 9,
   "id": "5d7a104a",
   "metadata": {},
   "outputs": [
    {
     "data": {
      "text/plain": [
       "''"
      ]
     },
     "execution_count": 9,
     "metadata": {},
     "output_type": "execute_result"
    }
   ],
   "source": [
    "a[0:10:-1] # the ouput is blank due to opposite diretion(0 to 10 positive and jump of one in negative direction)."
   ]
  },
  {
   "cell_type": "code",
   "execution_count": 10,
   "id": "6a9da045",
   "metadata": {},
   "outputs": [
    {
     "data": {
      "text/plain": [
       "'Jai Guruji'"
      ]
     },
     "execution_count": 10,
     "metadata": {},
     "output_type": "execute_result"
    }
   ],
   "source": [
    "a[::] # complete string in output, no need to give starting and end point."
   ]
  },
  {
   "cell_type": "code",
   "execution_count": 11,
   "id": "33a0ae4c",
   "metadata": {},
   "outputs": [
    {
     "data": {
      "text/plain": [
       "'ji'"
      ]
     },
     "execution_count": 11,
     "metadata": {},
     "output_type": "execute_result"
    }
   ],
   "source": [
    "a[-2:] # jump is positive and end point is automatically in positive direction that's why the output is two alphabets minus two and one."
   ]
  },
  {
   "cell_type": "code",
   "execution_count": 12,
   "id": "c9b9b121",
   "metadata": {},
   "outputs": [
    {
     "data": {
      "text/plain": [
       "'ijuruG iaJ'"
      ]
     },
     "execution_count": 12,
     "metadata": {},
     "output_type": "execute_result"
    }
   ],
   "source": [
    "a[::-1] # the output is reverse of string."
   ]
  },
  {
   "cell_type": "code",
   "execution_count": 13,
   "id": "ef81ae26",
   "metadata": {},
   "outputs": [
    {
     "data": {
      "text/plain": [
       "'ijuruG iaJ'"
      ]
     },
     "execution_count": 13,
     "metadata": {},
     "output_type": "execute_result"
    }
   ],
   "source": [
    "a[-1::-1] # second method of reverse of string."
   ]
  },
  {
   "cell_type": "code",
   "execution_count": 15,
   "id": "56936619",
   "metadata": {},
   "outputs": [
    {
     "data": {
      "text/plain": [
       "'rashikarashikarashika'"
      ]
     },
     "execution_count": 15,
     "metadata": {},
     "output_type": "execute_result"
    }
   ],
   "source": [
    "\"rashika\"*3 # the string repeats three times."
   ]
  },
  {
   "cell_type": "code",
   "execution_count": 16,
   "id": "2057cf45",
   "metadata": {},
   "outputs": [
    {
     "data": {
      "text/plain": [
       "'RashikaGupta'"
      ]
     },
     "execution_count": 16,
     "metadata": {},
     "output_type": "execute_result"
    }
   ],
   "source": [
    "\"Rashika\" + \"Gupta\" # output is addition of both string."
   ]
  },
  {
   "cell_type": "code",
   "execution_count": 17,
   "id": "0f29c2b2",
   "metadata": {},
   "outputs": [
    {
     "data": {
      "text/plain": [
       "10"
      ]
     },
     "execution_count": 17,
     "metadata": {},
     "output_type": "execute_result"
    }
   ],
   "source": [
    "len(a) # number of characters in string with space and tab."
   ]
  },
  {
   "cell_type": "code",
   "execution_count": 18,
   "id": "70be857e",
   "metadata": {},
   "outputs": [],
   "source": [
    "a='Jai Guruji'"
   ]
  },
  {
   "cell_type": "code",
   "execution_count": 19,
   "id": "95eb2302",
   "metadata": {},
   "outputs": [
    {
     "data": {
      "text/plain": [
       "2"
      ]
     },
     "execution_count": 19,
     "metadata": {},
     "output_type": "execute_result"
    }
   ],
   "source": [
    "a.find('i') # it gives position of first occurence of the alphabet(i)."
   ]
  },
  {
   "cell_type": "code",
   "execution_count": 20,
   "id": "df7722eb",
   "metadata": {},
   "outputs": [
    {
     "data": {
      "text/plain": [
       "-1"
      ]
     },
     "execution_count": 20,
     "metadata": {},
     "output_type": "execute_result"
    }
   ],
   "source": [
    "a.find('p') # if the character is unavailable, then the output is minus one."
   ]
  },
  {
   "cell_type": "code",
   "execution_count": 21,
   "id": "31c4bdad",
   "metadata": {},
   "outputs": [
    {
     "data": {
      "text/plain": [
       "2"
      ]
     },
     "execution_count": 21,
     "metadata": {},
     "output_type": "execute_result"
    }
   ],
   "source": [
    "a.count('i') # number of times the character available in string."
   ]
  },
  {
   "cell_type": "code",
   "execution_count": 22,
   "id": "3a7a8ffe",
   "metadata": {},
   "outputs": [
    {
     "data": {
      "text/plain": [
       "['Jai', 'Guruji']"
      ]
     },
     "execution_count": 22,
     "metadata": {},
     "output_type": "execute_result"
    }
   ],
   "source": [
    "a.split() # it gives list of string."
   ]
  },
  {
   "cell_type": "code",
   "execution_count": 23,
   "id": "cc44fd1e",
   "metadata": {},
   "outputs": [
    {
     "data": {
      "text/plain": [
       "'JAI GURUJI'"
      ]
     },
     "execution_count": 23,
     "metadata": {},
     "output_type": "execute_result"
    }
   ],
   "source": [
    "a.upper()"
   ]
  },
  {
   "cell_type": "code",
   "execution_count": 24,
   "id": "87146713",
   "metadata": {},
   "outputs": [
    {
     "data": {
      "text/plain": [
       "'jAI gURUJI'"
      ]
     },
     "execution_count": 24,
     "metadata": {},
     "output_type": "execute_result"
    }
   ],
   "source": [
    "a.swapcase()"
   ]
  },
  {
   "cell_type": "code",
   "execution_count": 25,
   "id": "a128612b",
   "metadata": {},
   "outputs": [
    {
     "data": {
      "text/plain": [
       "'Jai Guruji'"
      ]
     },
     "execution_count": 25,
     "metadata": {},
     "output_type": "execute_result"
    }
   ],
   "source": [
    "a.title()"
   ]
  },
  {
   "cell_type": "code",
   "execution_count": 26,
   "id": "4cebb66b",
   "metadata": {},
   "outputs": [
    {
     "data": {
      "text/plain": [
       "'Jai guruji'"
      ]
     },
     "execution_count": 26,
     "metadata": {},
     "output_type": "execute_result"
    }
   ],
   "source": [
    "a.capitalize()"
   ]
  },
  {
   "cell_type": "code",
   "execution_count": 27,
   "id": "38bb498c",
   "metadata": {},
   "outputs": [
    {
     "data": {
      "text/plain": [
       "'J A I   G U R U J I'"
      ]
     },
     "execution_count": 27,
     "metadata": {},
     "output_type": "execute_result"
    }
   ],
   "source": [
    "\" \".join(\"JAI GURUJI\")"
   ]
  },
  {
   "cell_type": "code",
   "execution_count": 29,
   "id": "b6a92094",
   "metadata": {},
   "outputs": [
    {
     "name": "stdout",
     "output_type": "stream",
     "text": [
      "I\n",
      "J\n",
      "U\n",
      "R\n",
      "U\n",
      "G\n",
      " \n",
      "I\n",
      "A\n",
      "J\n"
     ]
    }
   ],
   "source": [
    "for i in reversed(\"JAI GURUJI\"):\n",
    "    print(i)"
   ]
  },
  {
   "cell_type": "code",
   "execution_count": 30,
   "id": "5ada0668",
   "metadata": {},
   "outputs": [
    {
     "data": {
      "text/plain": [
       "'Jai Guruji'"
      ]
     },
     "execution_count": 30,
     "metadata": {},
     "output_type": "execute_result"
    }
   ],
   "source": [
    "a"
   ]
  },
  {
   "cell_type": "code",
   "execution_count": 31,
   "id": "1d14ce44",
   "metadata": {},
   "outputs": [],
   "source": [
    "a1 = '   Jai Guruji    '"
   ]
  },
  {
   "cell_type": "code",
   "execution_count": 32,
   "id": "5ba10bc2",
   "metadata": {},
   "outputs": [
    {
     "data": {
      "text/plain": [
       "'   Jai Guruji'"
      ]
     },
     "execution_count": 32,
     "metadata": {},
     "output_type": "execute_result"
    }
   ],
   "source": [
    "a1.rstrip()"
   ]
  },
  {
   "cell_type": "code",
   "execution_count": 33,
   "id": "5d204198",
   "metadata": {},
   "outputs": [
    {
     "data": {
      "text/plain": [
       "'Jai Guruji    '"
      ]
     },
     "execution_count": 33,
     "metadata": {},
     "output_type": "execute_result"
    }
   ],
   "source": [
    "a1.lstrip()"
   ]
  },
  {
   "cell_type": "code",
   "execution_count": 34,
   "id": "ae61e5b6",
   "metadata": {},
   "outputs": [
    {
     "data": {
      "text/plain": [
       "'Jai Guruji'"
      ]
     },
     "execution_count": 34,
     "metadata": {},
     "output_type": "execute_result"
    }
   ],
   "source": [
    "a1.strip()"
   ]
  },
  {
   "cell_type": "code",
   "execution_count": 35,
   "id": "759c2e13",
   "metadata": {},
   "outputs": [
    {
     "data": {
      "text/plain": [
       "'   Jai GUPTAuruji    '"
      ]
     },
     "execution_count": 35,
     "metadata": {},
     "output_type": "execute_result"
    }
   ],
   "source": [
    "a1.replace('G','GUPTA')"
   ]
  },
  {
   "cell_type": "code",
   "execution_count": 36,
   "id": "cb2d4234",
   "metadata": {},
   "outputs": [
    {
     "data": {
      "text/plain": [
       "'Jai     Guruji'"
      ]
     },
     "execution_count": 36,
     "metadata": {},
     "output_type": "execute_result"
    }
   ],
   "source": [
    "'Jai\\tGuruji'.expandtabs()"
   ]
  },
  {
   "cell_type": "code",
   "execution_count": 38,
   "id": "f6c16e5b",
   "metadata": {},
   "outputs": [
    {
     "data": {
      "text/plain": [
       "'@@@@@@@@@@@   Jai Guruji    @@@@@@@@@@@@'"
      ]
     },
     "execution_count": 38,
     "metadata": {},
     "output_type": "execute_result"
    }
   ],
   "source": [
    "a1.center(40, '@')"
   ]
  },
  {
   "cell_type": "code",
   "execution_count": 39,
   "id": "a5955971",
   "metadata": {},
   "outputs": [],
   "source": [
    "l =['j','a',1,2,3+1j] # collection of different datatypes is known as list."
   ]
  },
  {
   "cell_type": "code",
   "execution_count": 40,
   "id": "27fbd16f",
   "metadata": {},
   "outputs": [
    {
     "data": {
      "text/plain": [
       "['j', 'a', 1, 2, (3+1j)]"
      ]
     },
     "execution_count": 40,
     "metadata": {},
     "output_type": "execute_result"
    }
   ],
   "source": [
    "l"
   ]
  },
  {
   "cell_type": "code",
   "execution_count": 41,
   "id": "dd4bad7e",
   "metadata": {},
   "outputs": [
    {
     "data": {
      "text/plain": [
       "(3+1j)"
      ]
     },
     "execution_count": 41,
     "metadata": {},
     "output_type": "execute_result"
    }
   ],
   "source": [
    "l[-1]"
   ]
  },
  {
   "cell_type": "code",
   "execution_count": 42,
   "id": "d815ed61",
   "metadata": {},
   "outputs": [
    {
     "data": {
      "text/plain": [
       "3.0"
      ]
     },
     "execution_count": 42,
     "metadata": {},
     "output_type": "execute_result"
    }
   ],
   "source": [
    "l[-1].real"
   ]
  },
  {
   "cell_type": "code",
   "execution_count": 43,
   "id": "b234319d",
   "metadata": {},
   "outputs": [
    {
     "data": {
      "text/plain": [
       "1.0"
      ]
     },
     "execution_count": 43,
     "metadata": {},
     "output_type": "execute_result"
    }
   ],
   "source": [
    "l[-1].imag"
   ]
  },
  {
   "cell_type": "code",
   "execution_count": 44,
   "id": "1fb7ae1e",
   "metadata": {},
   "outputs": [],
   "source": [
    "l[0]='rashika'"
   ]
  },
  {
   "cell_type": "code",
   "execution_count": 45,
   "id": "66acdb63",
   "metadata": {},
   "outputs": [
    {
     "data": {
      "text/plain": [
       "['rashika', 'a', 1, 2, (3+1j)]"
      ]
     },
     "execution_count": 45,
     "metadata": {},
     "output_type": "execute_result"
    }
   ],
   "source": [
    "l"
   ]
  },
  {
   "cell_type": "code",
   "execution_count": 46,
   "id": "eaba1d3e",
   "metadata": {},
   "outputs": [
    {
     "ename": "TypeError",
     "evalue": "'str' object does not support item assignment",
     "output_type": "error",
     "traceback": [
      "\u001b[1;31m---------------------------------------------------------------------------\u001b[0m",
      "\u001b[1;31mTypeError\u001b[0m                                 Traceback (most recent call last)",
      "\u001b[1;32m~\\AppData\\Local\\Temp/ipykernel_17480/3759370881.py\u001b[0m in \u001b[0;36m<module>\u001b[1;34m\u001b[0m\n\u001b[1;32m----> 1\u001b[1;33m \u001b[0ml\u001b[0m\u001b[1;33m[\u001b[0m\u001b[1;36m0\u001b[0m\u001b[1;33m]\u001b[0m\u001b[1;33m[\u001b[0m\u001b[1;36m0\u001b[0m\u001b[1;33m]\u001b[0m\u001b[1;33m=\u001b[0m\u001b[1;34m'R'\u001b[0m\u001b[1;33m\u001b[0m\u001b[1;33m\u001b[0m\u001b[0m\n\u001b[0m",
      "\u001b[1;31mTypeError\u001b[0m: 'str' object does not support item assignment"
     ]
    }
   ],
   "source": [
    "l[0][0]='R'"
   ]
  },
  {
   "cell_type": "code",
   "execution_count": 47,
   "id": "849d8001",
   "metadata": {},
   "outputs": [],
   "source": [
    "# Above error is due to mutable and immutable concept, string is immutable while list is mutable."
   ]
  },
  {
   "cell_type": "code",
   "execution_count": 48,
   "id": "46e7ad36",
   "metadata": {},
   "outputs": [
    {
     "data": {
      "text/plain": [
       "True"
      ]
     },
     "execution_count": 48,
     "metadata": {},
     "output_type": "execute_result"
    }
   ],
   "source": [
    "'rashika' in l"
   ]
  },
  {
   "cell_type": "code",
   "execution_count": 49,
   "id": "c0f91147",
   "metadata": {},
   "outputs": [],
   "source": [
    "l.append(\"Mukesh\")"
   ]
  },
  {
   "cell_type": "code",
   "execution_count": 50,
   "id": "5d71a677",
   "metadata": {},
   "outputs": [
    {
     "data": {
      "text/plain": [
       "['rashika', 'a', 1, 2, (3+1j), 'Mukesh']"
      ]
     },
     "execution_count": 50,
     "metadata": {},
     "output_type": "execute_result"
    }
   ],
   "source": [
    "l"
   ]
  },
  {
   "cell_type": "code",
   "execution_count": 52,
   "id": "53b6a538",
   "metadata": {},
   "outputs": [
    {
     "data": {
      "text/plain": [
       "'Mukesh'"
      ]
     },
     "execution_count": 52,
     "metadata": {},
     "output_type": "execute_result"
    }
   ],
   "source": [
    "l.pop()"
   ]
  },
  {
   "cell_type": "code",
   "execution_count": 53,
   "id": "463d5931",
   "metadata": {},
   "outputs": [
    {
     "data": {
      "text/plain": [
       "'a'"
      ]
     },
     "execution_count": 53,
     "metadata": {},
     "output_type": "execute_result"
    }
   ],
   "source": [
    "l.pop(1)"
   ]
  },
  {
   "cell_type": "code",
   "execution_count": 54,
   "id": "0d10fbaf",
   "metadata": {},
   "outputs": [],
   "source": [
    "l.insert(1,\"gupta\")"
   ]
  },
  {
   "cell_type": "code",
   "execution_count": 55,
   "id": "4c7d54cb",
   "metadata": {},
   "outputs": [
    {
     "data": {
      "text/plain": [
       "['rashika', 'gupta', 1, 2, (3+1j)]"
      ]
     },
     "execution_count": 55,
     "metadata": {},
     "output_type": "execute_result"
    }
   ],
   "source": [
    "l"
   ]
  },
  {
   "cell_type": "code",
   "execution_count": 56,
   "id": "128bb01d",
   "metadata": {},
   "outputs": [
    {
     "data": {
      "text/plain": [
       "['rashika', 'gupta', 1, 2, (3+1j), 2, 3, 4, 'a']"
      ]
     },
     "execution_count": 56,
     "metadata": {},
     "output_type": "execute_result"
    }
   ],
   "source": [
    "l.extend([2,3,4,\"a\"])\n",
    "l"
   ]
  },
  {
   "cell_type": "code",
   "execution_count": 57,
   "id": "8e208fec",
   "metadata": {},
   "outputs": [],
   "source": [
    "t=(1,2,\"a\") # tuple is immutable."
   ]
  },
  {
   "cell_type": "code",
   "execution_count": 58,
   "id": "fad2604c",
   "metadata": {},
   "outputs": [
    {
     "data": {
      "text/plain": [
       "tuple"
      ]
     },
     "execution_count": 58,
     "metadata": {},
     "output_type": "execute_result"
    }
   ],
   "source": [
    "type(t)"
   ]
  },
  {
   "cell_type": "code",
   "execution_count": 59,
   "id": "51bf2bbe",
   "metadata": {},
   "outputs": [
    {
     "data": {
      "text/plain": [
       "{1, 2, 3}"
      ]
     },
     "execution_count": 59,
     "metadata": {},
     "output_type": "execute_result"
    }
   ],
   "source": [
    "s={1,2,2,3,3,3,3}\n",
    "s"
   ]
  },
  {
   "cell_type": "code",
   "execution_count": 60,
   "id": "f2c8132f",
   "metadata": {},
   "outputs": [
    {
     "ename": "TypeError",
     "evalue": "'set' object is not subscriptable",
     "output_type": "error",
     "traceback": [
      "\u001b[1;31m---------------------------------------------------------------------------\u001b[0m",
      "\u001b[1;31mTypeError\u001b[0m                                 Traceback (most recent call last)",
      "\u001b[1;32m~\\AppData\\Local\\Temp/ipykernel_17480/1037081869.py\u001b[0m in \u001b[0;36m<module>\u001b[1;34m\u001b[0m\n\u001b[1;32m----> 1\u001b[1;33m \u001b[0ms\u001b[0m\u001b[1;33m[\u001b[0m\u001b[1;36m0\u001b[0m\u001b[1;33m]\u001b[0m \u001b[1;31m# error because set is unordered,and not subscriptable.\u001b[0m\u001b[1;33m\u001b[0m\u001b[1;33m\u001b[0m\u001b[0m\n\u001b[0m",
      "\u001b[1;31mTypeError\u001b[0m: 'set' object is not subscriptable"
     ]
    }
   ],
   "source": [
    "s[0] # error because set is unordered,and not subscriptable."
   ]
  },
  {
   "cell_type": "code",
   "execution_count": 61,
   "id": "0e66eef8",
   "metadata": {},
   "outputs": [],
   "source": [
    "s.remove(1)"
   ]
  },
  {
   "cell_type": "code",
   "execution_count": 62,
   "id": "6dc56cce",
   "metadata": {},
   "outputs": [
    {
     "data": {
      "text/plain": [
       "{2, 3}"
      ]
     },
     "execution_count": 62,
     "metadata": {},
     "output_type": "execute_result"
    }
   ],
   "source": [
    "s"
   ]
  },
  {
   "cell_type": "code",
   "execution_count": 63,
   "id": "b797689d",
   "metadata": {},
   "outputs": [],
   "source": [
    "s.discard(3)"
   ]
  },
  {
   "cell_type": "code",
   "execution_count": 64,
   "id": "e41c438d",
   "metadata": {},
   "outputs": [
    {
     "data": {
      "text/plain": [
       "{2}"
      ]
     },
     "execution_count": 64,
     "metadata": {},
     "output_type": "execute_result"
    }
   ],
   "source": [
    "s"
   ]
  },
  {
   "cell_type": "code",
   "execution_count": 66,
   "id": "baf3a26d",
   "metadata": {},
   "outputs": [
    {
     "data": {
      "text/plain": [
       "{'k': 1, 'k1': 2}"
      ]
     },
     "execution_count": 66,
     "metadata": {},
     "output_type": "execute_result"
    }
   ],
   "source": [
    "d={\"k\":1,\"k1\":2} # it's a collection of key values pair.\n",
    "d"
   ]
  },
  {
   "cell_type": "code",
   "execution_count": 67,
   "id": "4abe5f79",
   "metadata": {},
   "outputs": [
    {
     "data": {
      "text/plain": [
       "2"
      ]
     },
     "execution_count": 67,
     "metadata": {},
     "output_type": "execute_result"
    }
   ],
   "source": [
    "d['k1']"
   ]
  },
  {
   "cell_type": "code",
   "execution_count": 68,
   "id": "9c13d647",
   "metadata": {},
   "outputs": [
    {
     "data": {
      "text/plain": [
       "dict_keys(['k', 'k1'])"
      ]
     },
     "execution_count": 68,
     "metadata": {},
     "output_type": "execute_result"
    }
   ],
   "source": [
    "d.keys()"
   ]
  },
  {
   "cell_type": "code",
   "execution_count": 69,
   "id": "b16a7d2a",
   "metadata": {},
   "outputs": [
    {
     "data": {
      "text/plain": [
       "dict_values([1, 2])"
      ]
     },
     "execution_count": 69,
     "metadata": {},
     "output_type": "execute_result"
    }
   ],
   "source": [
    "d.values()"
   ]
  },
  {
   "cell_type": "code",
   "execution_count": 70,
   "id": "a0f1b9a7",
   "metadata": {},
   "outputs": [
    {
     "data": {
      "text/plain": [
       "dict_items([('k', 1), ('k1', 2)])"
      ]
     },
     "execution_count": 70,
     "metadata": {},
     "output_type": "execute_result"
    }
   ],
   "source": [
    "d.items()"
   ]
  },
  {
   "cell_type": "code",
   "execution_count": 71,
   "id": "2fc02850",
   "metadata": {},
   "outputs": [
    {
     "data": {
      "text/plain": [
       "{'k': 1, 'k1': 2, 'k3': 'rashi'}"
      ]
     },
     "execution_count": 71,
     "metadata": {},
     "output_type": "execute_result"
    }
   ],
   "source": [
    "d['k3']=\"rashi\"\n",
    "d"
   ]
  },
  {
   "cell_type": "code",
   "execution_count": 72,
   "id": "75bb3268",
   "metadata": {},
   "outputs": [
    {
     "data": {
      "text/plain": [
       "{'k1': 2, 'k3': 'rashi'}"
      ]
     },
     "execution_count": 72,
     "metadata": {},
     "output_type": "execute_result"
    }
   ],
   "source": [
    "del d['k']\n",
    "d"
   ]
  },
  {
   "cell_type": "code",
   "execution_count": 73,
   "id": "3d29c5ca",
   "metadata": {},
   "outputs": [
    {
     "data": {
      "text/plain": [
       "{'k1': 2, 'k3': 'rashi', (1, 2, 3): 'gupta'}"
      ]
     },
     "execution_count": 73,
     "metadata": {},
     "output_type": "execute_result"
    }
   ],
   "source": [
    "d[(1,2,3)] = \"gupta\"\n",
    "d"
   ]
  },
  {
   "cell_type": "code",
   "execution_count": 77,
   "id": "972326b4",
   "metadata": {},
   "outputs": [
    {
     "data": {
      "text/plain": [
       "2"
      ]
     },
     "execution_count": 77,
     "metadata": {},
     "output_type": "execute_result"
    }
   ],
   "source": [
    "d.get('k1')"
   ]
  },
  {
   "cell_type": "code",
   "execution_count": 75,
   "id": "1d4afeff",
   "metadata": {},
   "outputs": [
    {
     "data": {
      "text/plain": [
       "{'k1': 2, 'k3': 'rashi', (1, 2, 3): 'gupta'}"
      ]
     },
     "execution_count": 75,
     "metadata": {},
     "output_type": "execute_result"
    }
   ],
   "source": [
    "d"
   ]
  },
  {
   "cell_type": "code",
   "execution_count": 78,
   "id": "684df853",
   "metadata": {},
   "outputs": [
    {
     "data": {
      "text/plain": [
       "{1: 'r', 2: 'a'}"
      ]
     },
     "execution_count": 78,
     "metadata": {},
     "output_type": "execute_result"
    }
   ],
   "source": [
    "d1={1:'r',2:'a'}\n",
    "d1"
   ]
  },
  {
   "cell_type": "code",
   "execution_count": 80,
   "id": "b4d6a813",
   "metadata": {},
   "outputs": [
    {
     "data": {
      "text/plain": [
       "{'k1': 2, 'k3': 'rashi', (1, 2, 3): 'gupta', 1: 'r', 2: 'a'}"
      ]
     },
     "execution_count": 80,
     "metadata": {},
     "output_type": "execute_result"
    }
   ],
   "source": [
    "d.update(d1)\n",
    "d"
   ]
  },
  {
   "cell_type": "code",
   "execution_count": 81,
   "id": "1d399e09",
   "metadata": {},
   "outputs": [],
   "source": [
    "key = (\"rashi\",\"gupta\",\"mr. mukesh\")\n",
    "value = 1"
   ]
  },
  {
   "cell_type": "code",
   "execution_count": 82,
   "id": "e0eac503",
   "metadata": {},
   "outputs": [
    {
     "data": {
      "text/plain": [
       "{'rashi': 1, 'gupta': 1, 'mr. mukesh': 1}"
      ]
     },
     "execution_count": 82,
     "metadata": {},
     "output_type": "execute_result"
    }
   ],
   "source": [
    "d=d1.fromkeys(key,value)\n",
    "d"
   ]
  }
 ],
 "metadata": {
  "kernelspec": {
   "display_name": "Python 3 (ipykernel)",
   "language": "python",
   "name": "python3"
  },
  "language_info": {
   "codemirror_mode": {
    "name": "ipython",
    "version": 3
   },
   "file_extension": ".py",
   "mimetype": "text/x-python",
   "name": "python",
   "nbconvert_exporter": "python",
   "pygments_lexer": "ipython3",
   "version": "3.9.7"
  }
 },
 "nbformat": 4,
 "nbformat_minor": 5
}
