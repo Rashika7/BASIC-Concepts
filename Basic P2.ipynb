{
 "cells": [
  {
   "cell_type": "code",
   "execution_count": 1,
   "id": "f8a6ef77",
   "metadata": {},
   "outputs": [],
   "source": [
    "a=10\n",
    "if a<15:\n",
    "    pass"
   ]
  },
  {
   "cell_type": "code",
   "execution_count": 2,
   "id": "cbd4f339",
   "metadata": {},
   "outputs": [
    {
     "name": "stdout",
     "output_type": "stream",
     "text": [
      " correct\n"
     ]
    }
   ],
   "source": [
    "if 10 <3:\n",
    "    print(\" incorrect\")\n",
    "else:\n",
    "    print(\" correct\")"
   ]
  },
  {
   "cell_type": "code",
   "execution_count": 4,
   "id": "5a90e50a",
   "metadata": {},
   "outputs": [
    {
     "name": "stdout",
     "output_type": "stream",
     "text": [
      " income is less\n"
     ]
    }
   ],
   "source": [
    "income =50\n",
    "if income <50:\n",
    "    print(\"income is ok\")\n",
    "elif income < 60:\n",
    "    print(\" income is less\")\n",
    "elif income <70:\n",
    "    print(\"income is very less\")\n",
    "else:\n",
    "    print(\"need to change\")"
   ]
  },
  {
   "cell_type": "code",
   "execution_count": 8,
   "id": "1ac47c5c",
   "metadata": {},
   "outputs": [
    {
     "name": "stdout",
     "output_type": "stream",
     "text": [
      "5000\n",
      "discount will be 500.0\n"
     ]
    }
   ],
   "source": [
    "Total_price = int(input())\n",
    "if Total_price >10000:\n",
    "    discount = Total_price*.20\n",
    "    print(\"dicount will be\",discount)\n",
    "elif Total_price <= 7000:\n",
    "    discount = Total_price*.10\n",
    "    print(\"discount will be\",discount)\n",
    "else:\n",
    "    print(\" no discount available\")"
   ]
  },
  {
   "cell_type": "code",
   "execution_count": 15,
   "id": "73b9ebcb",
   "metadata": {},
   "outputs": [
    {
     "name": "stdout",
     "output_type": "stream",
     "text": [
      "rashika\n",
      "maths\n",
      "sorry\n"
     ]
    }
   ],
   "source": [
    "s= input()\n",
    "course=input()\n",
    "if s==\"rashika\":\n",
    "    if course ==\"FSDS\":\n",
    "        print(\"rashika will able to complete\")\n",
    "    elif course == \"SCIENCE\":\n",
    "        print(\"need new faculty\")\n",
    "    else:\n",
    "        print('sorry')\n",
    "elif s==\"gupta\":\n",
    "    if course ==\"MATHS\":\n",
    "        print('faculty name shivangi')\n",
    "    elif course==\"sst\":\n",
    "        print(' fn guptaji')\n",
    "    else:\n",
    "        print('try again')\n",
    "else:\n",
    "    print('Give right input')"
   ]
  },
  {
   "cell_type": "code",
   "execution_count": 16,
   "id": "e842ecaf",
   "metadata": {},
   "outputs": [
    {
     "name": "stdout",
     "output_type": "stream",
     "text": [
      "1\n",
      "2\n",
      "3\n",
      "4\n",
      "5\n",
      "6\n",
      "7\n"
     ]
    }
   ],
   "source": [
    "l=[1,2,3,4,5,6,7]\n",
    "for i in l:\n",
    "    print(i)"
   ]
  },
  {
   "cell_type": "code",
   "execution_count": 17,
   "id": "449effdb",
   "metadata": {},
   "outputs": [
    {
     "name": "stdout",
     "output_type": "stream",
     "text": [
      "<class 'str'>\n",
      "<class 'str'>\n",
      "<class 'int'>\n",
      "<class 'int'>\n",
      "<class 'bool'>\n",
      "<class 'complex'>\n",
      "<class 'float'>\n"
     ]
    }
   ],
   "source": [
    "l1=['a','b',1,2,True,3+2j,5.2]\n",
    "for i in l1:\n",
    "    print(type(i))"
   ]
  },
  {
   "cell_type": "code",
   "execution_count": 18,
   "id": "84828b30",
   "metadata": {},
   "outputs": [
    {
     "name": "stdout",
     "output_type": "stream",
     "text": [
      "<class 'str'> a\n",
      "<class 'str'> b\n",
      "<class 'int'> 1\n",
      "<class 'int'> 2\n",
      "<class 'bool'> True\n",
      "<class 'complex'> (3+2j)\n",
      "<class 'float'> 5.2\n"
     ]
    }
   ],
   "source": [
    "for i in l1:\n",
    "    print(type(i),i)"
   ]
  },
  {
   "cell_type": "code",
   "execution_count": 19,
   "id": "284ac4a8",
   "metadata": {},
   "outputs": [],
   "source": [
    "l2=[]\n",
    "for i in l1:\n",
    "    if type(i)==int:\n",
    "        l2.append(i+2)\n",
    "    else:\n",
    "        l2.append(i)"
   ]
  },
  {
   "cell_type": "code",
   "execution_count": 20,
   "id": "eaa0036b",
   "metadata": {},
   "outputs": [
    {
     "data": {
      "text/plain": [
       "['a', 'b', 3, 4, True, (3+2j), 5.2]"
      ]
     },
     "execution_count": 20,
     "metadata": {},
     "output_type": "execute_result"
    }
   ],
   "source": [
    "l2"
   ]
  },
  {
   "cell_type": "code",
   "execution_count": 21,
   "id": "b81265ae",
   "metadata": {},
   "outputs": [],
   "source": [
    "l3 = [1,2,3,3,'rashi',[1,2,3,'gupta']]"
   ]
  },
  {
   "cell_type": "code",
   "execution_count": 36,
   "id": "cbb98d39",
   "metadata": {},
   "outputs": [
    {
     "name": "stdout",
     "output_type": "stream",
     "text": [
      "1 index is 0\n",
      "2 index is 1\n",
      "3 index is 2\n",
      "3 index is 3\n",
      "rashi index is 4\n",
      "[1, 2, 3, 'gupta'] index is 5\n"
     ]
    }
   ],
   "source": [
    "# print index of all element.\n",
    "for i in range(len(l3)):\n",
    "    print(l3[i], \"index is\", i)"
   ]
  },
  {
   "cell_type": "code",
   "execution_count": 37,
   "id": "14c6d049",
   "metadata": {},
   "outputs": [
    {
     "name": "stdout",
     "output_type": "stream",
     "text": [
      "(0, 1)\n",
      "(1, 2)\n",
      "(2, 3)\n",
      "(3, 3)\n",
      "(4, 'rashi')\n",
      "(5, [1, 2, 3, 'gupta'])\n"
     ]
    }
   ],
   "source": [
    "# second way to find index of all element.\n",
    "for i in enumerate(l3):\n",
    "    print(i)"
   ]
  },
  {
   "cell_type": "code",
   "execution_count": 28,
   "id": "f4c27113",
   "metadata": {},
   "outputs": [],
   "source": [
    "l4=[]\n",
    "for i in l3:\n",
    "    if type(i)==str:\n",
    "        l4.append(list(i))\n",
    "    elif type(i)==list:\n",
    "        for j in i:\n",
    "            if type(j)==str:\n",
    "                l4.append(list(j))\n",
    "        "
   ]
  },
  {
   "cell_type": "code",
   "execution_count": 29,
   "id": "5a29d488",
   "metadata": {},
   "outputs": [
    {
     "data": {
      "text/plain": [
       "[['r', 'a', 's', 'h', 'i'], ['g', 'u', 'p', 't', 'a']]"
      ]
     },
     "execution_count": 29,
     "metadata": {},
     "output_type": "execute_result"
    }
   ],
   "source": [
    "l4"
   ]
  },
  {
   "cell_type": "code",
   "execution_count": 31,
   "id": "70c23008",
   "metadata": {},
   "outputs": [
    {
     "data": {
      "text/plain": [
       "[1, 4, 9, 9, 1, 4, 9]"
      ]
     },
     "execution_count": 31,
     "metadata": {},
     "output_type": "execute_result"
    }
   ],
   "source": [
    "l5=[]\n",
    "for i in l3:\n",
    "    if type(i)==int:\n",
    "        l5.append(i*i)\n",
    "    elif type(i)==list:\n",
    "        for j in i:\n",
    "            if type(j)==int:\n",
    "                l5.append(j*j)\n",
    "l5"
   ]
  },
  {
   "cell_type": "code",
   "execution_count": 39,
   "id": "b5146034",
   "metadata": {},
   "outputs": [
    {
     "name": "stdout",
     "output_type": "stream",
     "text": [
      "0\n",
      "1\n",
      "2\n",
      "3\n",
      "4\n",
      "5\n"
     ]
    }
   ],
   "source": [
    "a=0\n",
    "while a<6:\n",
    "    print(a)\n",
    "    a+=1"
   ]
  },
  {
   "cell_type": "code",
   "execution_count": 40,
   "id": "88bdfe31",
   "metadata": {},
   "outputs": [
    {
     "name": "stdout",
     "output_type": "stream",
     "text": [
      "1\n",
      "2\n",
      "3\n",
      "4\n"
     ]
    }
   ],
   "source": [
    "a=1\n",
    "while a<7:\n",
    "    if a==5:\n",
    "        break\n",
    "    print(a)\n",
    "    a+=1"
   ]
  },
  {
   "cell_type": "code",
   "execution_count": 43,
   "id": "582e0e6f",
   "metadata": {},
   "outputs": [
    {
     "name": "stdout",
     "output_type": "stream",
     "text": [
      "1\n",
      "2\n",
      "3\n",
      "4\n",
      "5\n",
      "6\n"
     ]
    }
   ],
   "source": [
    "a=1\n",
    "while a<7:\n",
    "    print(a)\n",
    "    a=a+1\n",
    "    if a==3:\n",
    "        continue"
   ]
  },
  {
   "cell_type": "code",
   "execution_count": 44,
   "id": "f20115fc",
   "metadata": {},
   "outputs": [
    {
     "name": "stdout",
     "output_type": "stream",
     "text": [
      "* \r\n",
      "* * \r\n",
      "* * * \r\n",
      "* * * * \r\n",
      "* * * * * \r\n",
      "* * * * * * \r\n"
     ]
    }
   ],
   "source": [
    "n=6\n",
    "for i in range(6):\n",
    "    for j in range(0,i+1):\n",
    "        print('* ',end='')\n",
    "    print('\\r')"
   ]
  },
  {
   "cell_type": "code",
   "execution_count": 45,
   "id": "3c54909c",
   "metadata": {},
   "outputs": [
    {
     "name": "stdout",
     "output_type": "stream",
     "text": [
      "a 1\n",
      "b 2\n",
      "c 3\n"
     ]
    }
   ],
   "source": [
    "d={'a':1,'b':2,'c':3}\n",
    "for i in d:\n",
    "    print(i,d[i])"
   ]
  },
  {
   "cell_type": "code",
   "execution_count": 46,
   "id": "9d10fd5d",
   "metadata": {},
   "outputs": [
    {
     "name": "stdout",
     "output_type": "stream",
     "text": [
      "a\n",
      "t\n",
      "p\n",
      "u\n",
      "g\n",
      " \n",
      "a\n",
      "k\n",
      "i\n",
      "h\n",
      "s\n",
      "a\n",
      "r\n"
     ]
    }
   ],
   "source": [
    "r=\"rashika gupta\"\n",
    "for i in range(len(r)-1,-1,-1):\n",
    "    print(r[i])"
   ]
  },
  {
   "cell_type": "code",
   "execution_count": 48,
   "id": "93ec032f",
   "metadata": {},
   "outputs": [
    {
     "name": "stdout",
     "output_type": "stream",
     "text": [
      "r is not a vowel\n",
      "vowel a\n",
      "s is not a vowel\n",
      "h is not a vowel\n",
      "vowel i\n",
      "k is not a vowel\n",
      "vowel a\n"
     ]
    }
   ],
   "source": [
    "p= \"rashika\"\n",
    "q=\"aAeEiIoOuU\"\n",
    "for i in p:\n",
    "    if i in q:\n",
    "        print(\"vowel\", i)\n",
    "    else:\n",
    "        print(i, 'is not a vowel')"
   ]
  },
  {
   "cell_type": "code",
   "execution_count": 49,
   "id": "56b23f03",
   "metadata": {},
   "outputs": [
    {
     "name": "stdout",
     "output_type": "stream",
     "text": [
      "it's a palindrome\n"
     ]
    }
   ],
   "source": [
    "s=\"eye\"\n",
    "if s==s[::-1]:\n",
    "    print(\"it's a palindrome\")\n",
    "else:\n",
    "    print(\"it's not a palindrome\" )"
   ]
  },
  {
   "cell_type": "code",
   "execution_count": 51,
   "id": "9ab381b6",
   "metadata": {},
   "outputs": [
    {
     "name": "stdout",
     "output_type": "stream",
     "text": [
      "3\n",
      "7\n"
     ]
    }
   ],
   "source": [
    "d_1={'a':{\"k\":1,\"k1\":2,\"k3\":3},'b':{'k4':4,'k5':5,'k6':7}}\n",
    "l=[]\n",
    "for i in d_1.values():\n",
    "    for j in i.values():\n",
    "        l.append(j)\n",
    "    print(max(l))"
   ]
  },
  {
   "cell_type": "code",
   "execution_count": 53,
   "id": "dcc2f104",
   "metadata": {},
   "outputs": [
    {
     "name": "stdout",
     "output_type": "stream",
     "text": [
      "3\n",
      "7\n"
     ]
    }
   ],
   "source": [
    "for i in d_1.values():\n",
    "    print(max(i.values()))"
   ]
  },
  {
   "cell_type": "code",
   "execution_count": 1,
   "id": "644811f0",
   "metadata": {},
   "outputs": [
    {
     "ename": "TypeError",
     "evalue": "'>' not supported between instances of 'dict_values' and 'int'",
     "output_type": "error",
     "traceback": [
      "\u001b[1;31m---------------------------------------------------------------------------\u001b[0m",
      "\u001b[1;31mTypeError\u001b[0m                                 Traceback (most recent call last)",
      "\u001b[1;32m~\\AppData\\Local\\Temp/ipykernel_3836/780068115.py\u001b[0m in \u001b[0;36m<module>\u001b[1;34m\u001b[0m\n\u001b[0;32m     11\u001b[0m         \u001b[0ml\u001b[0m\u001b[1;33m.\u001b[0m\u001b[0mextend\u001b[0m\u001b[1;33m(\u001b[0m\u001b[0mi\u001b[0m\u001b[1;33m)\u001b[0m\u001b[1;33m\u001b[0m\u001b[1;33m\u001b[0m\u001b[0m\n\u001b[0;32m     12\u001b[0m \u001b[1;32melse\u001b[0m\u001b[1;33m:\u001b[0m\u001b[1;33m\u001b[0m\u001b[1;33m\u001b[0m\u001b[0m\n\u001b[1;32m---> 13\u001b[1;33m      \u001b[0mprint\u001b[0m\u001b[1;33m(\u001b[0m\u001b[0mmax\u001b[0m\u001b[1;33m(\u001b[0m\u001b[0ml\u001b[0m\u001b[1;33m)\u001b[0m\u001b[1;33m)\u001b[0m\u001b[1;33m\u001b[0m\u001b[1;33m\u001b[0m\u001b[0m\n\u001b[0m",
      "\u001b[1;31mTypeError\u001b[0m: '>' not supported between instances of 'dict_values' and 'int'"
     ]
    }
   ],
   "source": [
    "d4={'a':1,'b':{'k':23,'k2':25,'k3':26},\"bc\":89, 'h':[1,2,3,5],'g':(78,89,99)}\n",
    "l=[]\n",
    "for i in d4.values():\n",
    "    if type(i)==int:\n",
    "        l.append(i)\n",
    "    elif type(i)==dict:\n",
    "        l.append(i.values())\n",
    "    elif type(i)==list:\n",
    "        l.extend(i)\n",
    "    elif type(i)==tuple:\n",
    "        l.extend(i)\n",
    "else:\n",
    "     print(max(l))"
   ]
  },
  {
   "cell_type": "code",
   "execution_count": 4,
   "id": "57ab276b",
   "metadata": {},
   "outputs": [
    {
     "ename": "SyntaxError",
     "evalue": "invalid syntax (Temp/ipykernel_3836/934806733.py, line 7)",
     "output_type": "error",
     "traceback": [
      "\u001b[1;36m  File \u001b[1;32m\"C:\\Users\\Rashika\\AppData\\Local\\Temp/ipykernel_3836/934806733.py\"\u001b[1;36m, line \u001b[1;32m7\u001b[0m\n\u001b[1;33m    elif type(i)==list:\u001b[0m\n\u001b[1;37m    ^\u001b[0m\n\u001b[1;31mSyntaxError\u001b[0m\u001b[1;31m:\u001b[0m invalid syntax\n"
     ]
    }
   ],
   "source": [
    "l=[]\n",
    "for i in d4.values():\n",
    "    if type(i)==int:\n",
    "        l.append(i)\n",
    "    elif type(i)==dict:\n",
    "        l.append(max(i.values())\n",
    "    elif type(i)==list:\n",
    "        l.extend(i)\n",
    "    elif type(i)==tuple:\n",
    "        l.extend(i)"
   ]
  },
  {
   "cell_type": "code",
   "execution_count": 3,
   "id": "aa0e4aba",
   "metadata": {},
   "outputs": [
    {
     "data": {
      "text/plain": [
       "[1, dict_values([23, 25, 26]), 89, 1, 2, 3, 5, 78, 89, 99]"
      ]
     },
     "execution_count": 3,
     "metadata": {},
     "output_type": "execute_result"
    }
   ],
   "source": [
    "l"
   ]
  },
  {
   "cell_type": "code",
   "execution_count": 8,
   "id": "b0eab023",
   "metadata": {},
   "outputs": [
    {
     "data": {
      "text/plain": [
       "[1, 23, 25, 26, 89, 1, 2, 3, 5, 78, 89, 99]"
      ]
     },
     "execution_count": 8,
     "metadata": {},
     "output_type": "execute_result"
    }
   ],
   "source": [
    "l=[]\n",
    "for i in d4.values():\n",
    "    if type(i)==int:\n",
    "        l.append(i)\n",
    "    elif type(i)==dict:\n",
    "        l.extend(i.values())\n",
    "    elif type(i)==list:\n",
    "        l.extend(i)\n",
    "    elif type(i)==tuple:\n",
    "        l.extend(i)\n",
    "l"
   ]
  },
  {
   "cell_type": "code",
   "execution_count": 9,
   "id": "f35c4631",
   "metadata": {},
   "outputs": [
    {
     "data": {
      "text/plain": [
       "99"
      ]
     },
     "execution_count": 9,
     "metadata": {},
     "output_type": "execute_result"
    }
   ],
   "source": [
    "max(l)"
   ]
  },
  {
   "cell_type": "code",
   "execution_count": 1,
   "id": "82d6497b",
   "metadata": {},
   "outputs": [],
   "source": [
    "def test(a):\n",
    "    n=[]\n",
    "    if type(a)==list:\n",
    "        for i in a:\n",
    "            if type(i)==int:\n",
    "                n.append(i)\n",
    "    return n"
   ]
  },
  {
   "cell_type": "code",
   "execution_count": 2,
   "id": "f3082551",
   "metadata": {},
   "outputs": [
    {
     "data": {
      "text/plain": [
       "[1, 2, 3, 4, 5, 6, 7]"
      ]
     },
     "execution_count": 2,
     "metadata": {},
     "output_type": "execute_result"
    }
   ],
   "source": [
    "test([1,2,3,4,5,6,7,\"rashi\",'gupta'])"
   ]
  },
  {
   "cell_type": "code",
   "execution_count": 5,
   "id": "ef7fe1da",
   "metadata": {},
   "outputs": [],
   "source": [
    "def triangle(rows):\n",
    "    if type(rows)==int:\n",
    "        for i in range(0,rows+1):\n",
    "            for j in range (i):\n",
    "                print('.',end=\"\")\n",
    "            print('\\n')\n",
    "    "
   ]
  },
  {
   "cell_type": "code",
   "execution_count": 6,
   "id": "da6b55b2",
   "metadata": {},
   "outputs": [
    {
     "name": "stdout",
     "output_type": "stream",
     "text": [
      "\n",
      "\n",
      ".\n",
      "\n",
      "..\n",
      "\n",
      "...\n",
      "\n",
      "....\n",
      "\n"
     ]
    }
   ],
   "source": [
    "triangle(4)"
   ]
  },
  {
   "cell_type": "code",
   "execution_count": 7,
   "id": "8af3a3ec",
   "metadata": {},
   "outputs": [],
   "source": [
    "# To give multiple arguments.\n",
    "def a(*args):\n",
    "    return args"
   ]
  },
  {
   "cell_type": "code",
   "execution_count": 8,
   "id": "c9185017",
   "metadata": {},
   "outputs": [
    {
     "data": {
      "text/plain": [
       "(1, 2, 3, 4)"
      ]
     },
     "execution_count": 8,
     "metadata": {},
     "output_type": "execute_result"
    }
   ],
   "source": [
    "a(1,2,3,4)"
   ]
  },
  {
   "cell_type": "code",
   "execution_count": 9,
   "id": "9063288c",
   "metadata": {},
   "outputs": [],
   "source": [
    "# To give multiple arguments in key values pair.\n",
    "def a(**kwargs):\n",
    "    return kwargs"
   ]
  },
  {
   "cell_type": "code",
   "execution_count": 14,
   "id": "d8f37894",
   "metadata": {},
   "outputs": [
    {
     "data": {
      "text/plain": [
       "{'name': 'rashika', 'lastname': 'gupta'}"
      ]
     },
     "execution_count": 14,
     "metadata": {},
     "output_type": "execute_result"
    }
   ],
   "source": [
    "a(name=\"rashika\",lastname=\"gupta\")"
   ]
  },
  {
   "cell_type": "code",
   "execution_count": 16,
   "id": "c47dd8cb",
   "metadata": {},
   "outputs": [],
   "source": [
    "a=lambda b,c:b*c"
   ]
  },
  {
   "cell_type": "code",
   "execution_count": 17,
   "id": "93c405bb",
   "metadata": {},
   "outputs": [
    {
     "data": {
      "text/plain": [
       "180"
      ]
     },
     "execution_count": 17,
     "metadata": {},
     "output_type": "execute_result"
    }
   ],
   "source": [
    "a(15,12)"
   ]
  },
  {
   "cell_type": "code",
   "execution_count": 18,
   "id": "023bb062",
   "metadata": {},
   "outputs": [],
   "source": [
    "x= lambda x:[print(i) for i in x]"
   ]
  },
  {
   "cell_type": "code",
   "execution_count": 19,
   "id": "09647684",
   "metadata": {},
   "outputs": [
    {
     "name": "stdout",
     "output_type": "stream",
     "text": [
      "r\n",
      "a\n",
      "s\n",
      "h\n",
      "i\n",
      "k\n",
      "a\n"
     ]
    },
    {
     "data": {
      "text/plain": [
       "[None, None, None, None, None, None, None]"
      ]
     },
     "execution_count": 19,
     "metadata": {},
     "output_type": "execute_result"
    }
   ],
   "source": [
    "x(\"rashika\")"
   ]
  },
  {
   "cell_type": "code",
   "execution_count": null,
   "id": "c9dc08b0",
   "metadata": {},
   "outputs": [],
   "source": []
  }
 ],
 "metadata": {
  "kernelspec": {
   "display_name": "Python 3 (ipykernel)",
   "language": "python",
   "name": "python3"
  },
  "language_info": {
   "codemirror_mode": {
    "name": "ipython",
    "version": 3
   },
   "file_extension": ".py",
   "mimetype": "text/x-python",
   "name": "python",
   "nbconvert_exporter": "python",
   "pygments_lexer": "ipython3",
   "version": "3.9.7"
  }
 },
 "nbformat": 4,
 "nbformat_minor": 5
}
